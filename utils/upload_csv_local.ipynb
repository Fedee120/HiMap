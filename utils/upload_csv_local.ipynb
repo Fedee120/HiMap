{
 "cells": [
  {
   "cell_type": "code",
   "execution_count": 1,
   "metadata": {},
   "outputs": [
    {
     "data": {
      "text/plain": [
       "Status(code=0, message=)"
      ]
     },
     "execution_count": 1,
     "metadata": {},
     "output_type": "execute_result"
    }
   ],
   "source": [
    "import json\n",
    "from pymilvus import connections, FieldSchema, CollectionSchema, DataType, Collection, utility\n",
    "\n",
    "from pymilvus import connections\n",
    "connections.connect(\n",
    "  alias=\"default\",\n",
    "  host='localhost',\n",
    "  port='19530'\n",
    ")\n",
    "\n",
    "# 2. Define fields\n",
    "fields = [\n",
    "    FieldSchema(name=\"id\", dtype=DataType.INT64, is_primary=True),\n",
    "    FieldSchema(name=\"embedding\", dtype=DataType.FLOAT_VECTOR, dim=384)\n",
    "]\n",
    "\n",
    "# 3. Build the schema\n",
    "schema = CollectionSchema(\n",
    "    fields,\n",
    "    description=\"Schema of docs\",\n",
    "        enable_dynamic_field=False\n",
    ")\n",
    "\n",
    "# 4. Create collection\n",
    "collection = Collection(\n",
    "    name=\"python_doc\", \n",
    "    description=\"Python documentation collection\",\n",
    "    schema=schema\n",
    ")\n",
    "\n",
    "# 5. Create index\n",
    "\n",
    "index_params = {\n",
    "    \"index_type\": \"AUTOINDEX\",\n",
    "    \"metric_type\": \"L2\",\n",
    "    \"params\": {}\n",
    "}\n",
    "\n",
    "# To name the index, do as follows:\n",
    "collection.create_index(\n",
    "  field_name=\"embedding\", \n",
    "  index_params=index_params,\n",
    "  index_name='embedding_index'\n",
    ")"
   ]
  },
  {
   "cell_type": "code",
   "execution_count": 2,
   "metadata": {},
   "outputs": [],
   "source": [
    "def insert_docs_to_db(batch_data):\n",
    "    res = collection.insert(\n",
    "        data=batch_data\n",
    "    )\n",
    "    return res"
   ]
  },
  {
   "cell_type": "code",
   "execution_count": 3,
   "metadata": {},
   "outputs": [],
   "source": [
    "def load_json(file_path):\n",
    "    with open(file_path, 'r', encoding='utf-8') as f:\n",
    "        return json.load(f)"
   ]
  },
  {
   "cell_type": "code",
   "execution_count": null,
   "metadata": {},
   "outputs": [],
   "source": [
    "json_file_path = \"embedding_data.json\"\n",
    "data = load_json(json_file_path)\n",
    "\n",
    "# Insert data to the database\n",
    "insert_result = insert_docs_to_db(data)\n",
    "print(f\"Insert result: {insert_result}\")"
   ]
  },
  {
   "cell_type": "code",
   "execution_count": null,
   "metadata": {},
   "outputs": [],
   "source": [
    "utility.drop_collection(\"python_doc\")"
   ]
  },
  {
   "cell_type": "code",
   "execution_count": 4,
   "metadata": {},
   "outputs": [
    {
     "name": "stdout",
     "output_type": "stream",
     "text": [
      "Insert result for chunk 1/10: (insert count: 10000, delete count: 0, upsert count: 0, timestamp: 443829940920778755, success count: 10000, err count: 0)\n",
      "Insert result for chunk 2/10: (insert count: 10000, delete count: 0, upsert count: 0, timestamp: 443829941143601153, success count: 10000, err count: 0)\n",
      "Insert result for chunk 3/10: (insert count: 10000, delete count: 0, upsert count: 0, timestamp: 443829941379530755, success count: 10000, err count: 0)\n",
      "Insert result for chunk 4/10: (insert count: 10000, delete count: 0, upsert count: 0, timestamp: 443829941602353154, success count: 10000, err count: 0)\n",
      "Insert result for chunk 5/10: (insert count: 10000, delete count: 0, upsert count: 0, timestamp: 443829941838544898, success count: 10000, err count: 0)\n",
      "Insert result for chunk 6/10: (insert count: 10000, delete count: 0, upsert count: 0, timestamp: 443829942047997954, success count: 10000, err count: 0)\n",
      "Insert result for chunk 7/10: (insert count: 10000, delete count: 0, upsert count: 0, timestamp: 443829942310141954, success count: 10000, err count: 0)\n",
      "Insert result for chunk 8/10: (insert count: 10000, delete count: 0, upsert count: 0, timestamp: 443829942546071554, success count: 10000, err count: 0)\n",
      "Insert result for chunk 9/10: (insert count: 10000, delete count: 0, upsert count: 0, timestamp: 443829942795370497, success count: 10000, err count: 0)\n",
      "Insert result for chunk 10/10: (insert count: 167, delete count: 0, upsert count: 0, timestamp: 443829942821322753, success count: 167, err count: 0)\n"
     ]
    }
   ],
   "source": [
    "import json\n",
    "\n",
    "json_file_path = \"embedding_data.json\"\n",
    "data = load_json(json_file_path)\n",
    "\n",
    "def load_json(file_path):\n",
    "    with open(file_path, 'r', encoding='utf-8') as f:\n",
    "        return json.load(f)\n",
    "\n",
    "def insert_docs_to_db(batch_data):\n",
    "    res = collection.insert(\n",
    "        data=batch_data\n",
    "    )\n",
    "    return res\n",
    "\n",
    "# Define chunk size\n",
    "chunk_size = 10000\n",
    "total_chunks = len(data) // chunk_size + (1 if len(data) % chunk_size else 0)\n",
    "\n",
    "for idx in range(total_chunks):\n",
    "    start_idx = idx * chunk_size\n",
    "    end_idx = (idx + 1) * chunk_size\n",
    "    chunked_data = data[start_idx:end_idx]\n",
    "    \n",
    "    # Insert each chunk to the database\n",
    "    insert_result = insert_docs_to_db(chunked_data)\n",
    "    print(f\"Insert result for chunk {idx+1}/{total_chunks}: {insert_result}\")\n"
   ]
  }
 ],
 "metadata": {
  "kernelspec": {
   "display_name": "Python 3",
   "language": "python",
   "name": "python3"
  },
  "language_info": {
   "codemirror_mode": {
    "name": "ipython",
    "version": 3
   },
   "file_extension": ".py",
   "mimetype": "text/x-python",
   "name": "python",
   "nbconvert_exporter": "python",
   "pygments_lexer": "ipython3",
   "version": "3.11.3"
  },
  "orig_nbformat": 4
 },
 "nbformat": 4,
 "nbformat_minor": 2
}
