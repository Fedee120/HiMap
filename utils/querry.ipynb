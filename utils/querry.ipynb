{
 "cells": [
  {
   "cell_type": "code",
   "execution_count": 2,
   "metadata": {},
   "outputs": [
    {
     "name": "stderr",
     "output_type": "stream",
     "text": [
      "c:\\Python311\\Lib\\site-packages\\tqdm\\auto.py:21: TqdmWarning: IProgress not found. Please update jupyter and ipywidgets. See https://ipywidgets.readthedocs.io/en/stable/user_install.html\n",
      "  from .autonotebook import tqdm as notebook_tqdm\n"
     ]
    }
   ],
   "source": [
    "import os\n",
    "from transformers import DistilBertTokenizer, DistilBertModel\n",
    "from pymilvus import connections, Collection, FieldSchema, CollectionSchema, DataType\n",
    "import torch\n",
    "from sentence_transformers import SentenceTransformer\n",
    "\n",
    "# Initialize DistilBERT tokenizer and model\n",
    "#tokenizer = DistilBertTokenizer.from_pretrained('distilbert-base-uncased')\n",
    "#model = DistilBertModel.from_pretrained('distilbert-base-uncased')\n",
    "#model = SentenceTransformer('sentence-transformers/sentence-t5-base')\n",
    "#model = SentenceTransformer('all-MiniLM-L6-v2')\n",
    "model = SentenceTransformer('multi-qa-MiniLM-L6-cos-v1')\n",
    "\n",
    "def get_embedding(chunk):\n",
    "    \"\"\"Get the embedding vector for a chunk of text\"\"\"\n",
    "    return model.encode(chunk)"
   ]
  },
  {
   "cell_type": "code",
   "execution_count": 1,
   "metadata": {},
   "outputs": [],
   "source": [
    "from pymilvus import MilvusClient\n",
    "\n",
    "client = MilvusClient(\n",
    "    uri='https://in03-a0e8499f9e3836d.api.gcp-us-west1.zillizcloud.com',\n",
    "    token='af03123a9ccf876c1ab67438523167cb5d2226e2b3d4860ea6ab6114ecb7505741e500c31dc587b2b8e228e0917326c2f34df939', #  API key obtained from Zilliz Cloud\n",
    ")"
   ]
  },
  {
   "cell_type": "code",
   "execution_count": 17,
   "metadata": {},
   "outputs": [
    {
     "name": "stdout",
     "output_type": "stream",
     "text": [
      "[[{'id': 4917, 'distance': 0.6798818111419678, 'entity': {'id': 4917}}, {'id': 10402, 'distance': 0.6981911659240723, 'entity': {'id': 10402}}, {'id': 2335, 'distance': 0.7077752351760864, 'entity': {'id': 2335}}, {'id': 9312, 'distance': 0.7683041095733643, 'entity': {'id': 9312}}, {'id': 9599, 'distance': 0.7878801822662354, 'entity': {'id': 9599}}, {'id': 4622, 'distance': 0.8129417896270752, 'entity': {'id': 4622}}, {'id': 2336, 'distance': 0.8555703163146973, 'entity': {'id': 2336}}, {'id': 10408, 'distance': 0.869567334651947, 'entity': {'id': 10408}}, {'id': 11102, 'distance': 0.8719510436058044, 'entity': {'id': 11102}}, {'id': 10665, 'distance': 0.8743786811828613, 'entity': {'id': 10665}}]]\n"
     ]
    }
   ],
   "source": [
    "query_vector = get_embedding(\"how do i write a module in C or C++?\")\n",
    "res = client.search(\n",
    "    collection_name=\"python_doc\",\n",
    "    data=[query_vector],\n",
    "    output_fields=[\"id\"]\n",
    ")\n",
    "\n",
    "print(res)"
   ]
  },
  {
   "cell_type": "code",
   "execution_count": 18,
   "metadata": {},
   "outputs": [],
   "source": [
    "#append to a list the ids of the response considering the structure is[[{'id': 443753998296271112, 'distance': 21.09891700744629, 'entity': {'filename': '3.txt'}}, {'id': 443753998296271115, 'distance': 21.15544891357422, 'entity': {'filename': '3.txt'}}\n",
    "#then we can use the ids to get the text from the files\n",
    "ids = []\n",
    "for i in res[0]:\n",
    "    ids.append(i['entity']['id'])\n"
   ]
  },
  {
   "cell_type": "code",
   "execution_count": 19,
   "metadata": {},
   "outputs": [
    {
     "name": "stdout",
     "output_type": "stream",
     "text": [
      "1. * How do I access a module written in Python from C?\n",
      "2. * How do I interface to C++ objects from Python?\n",
      "3. *\n",
      "\n",
      "   The module definition struct, which holds all information needed to\n",
      "   create a module object.\n",
      "4. extension module\n",
      "   A module written in C or C++, using Python's C API to interact with\n",
      "   the core and with user code.\n",
      "5. These modules let you write Python code to interface\n",
      "  with C code and are more portable between implementations of Python\n",
      "  than writing and compiling a C extension module.\n",
      "6. Writing Extensions in C++\n",
      "===============================\n",
      "\n",
      "It is possible to write extension modules in C++.\n",
      "7. How do I access a module written in Python from C?\n",
      "8. How do I interface to C++ objects from Python?\n",
      "9. -------------------------------------------------------------\n",
      "\n",
      "If you can't find a source file for a module it may be a built-in or\n",
      "dynamically loaded module implemented in C, C++ or other compiled\n",
      "language.\n",
      "10. If you are confident in\n",
      "your C programming skills, you can also write a C extension module\n",
      "yourself.\n"
     ]
    }
   ],
   "source": [
    "import json\n",
    "\n",
    "def retrieve_sentences_from_ids(ids):\n",
    "    # Load data from JSON file\n",
    "    with open(\"sentence_data.json\", 'r', encoding='utf-8') as json_file:\n",
    "        data = json.load(json_file)\n",
    "\n",
    "    # Filter sentences with the given IDs\n",
    "    retrieved_sentences = [record['sentence'] for record in data if record['id'] in ids]\n",
    "\n",
    "    # Print retrieved sentences\n",
    "    for idx, sentence in enumerate(retrieved_sentences, 1):\n",
    "        print(f\"{idx}. {sentence}\")\n",
    "\n",
    "\n",
    "retrieve_sentences_from_ids(ids)\n"
   ]
  }
 ],
 "metadata": {
  "kernelspec": {
   "display_name": "Python 3",
   "language": "python",
   "name": "python3"
  },
  "language_info": {
   "codemirror_mode": {
    "name": "ipython",
    "version": 3
   },
   "file_extension": ".py",
   "mimetype": "text/x-python",
   "name": "python",
   "nbconvert_exporter": "python",
   "pygments_lexer": "ipython3",
   "version": "3.11.3"
  },
  "orig_nbformat": 4
 },
 "nbformat": 4,
 "nbformat_minor": 2
}
