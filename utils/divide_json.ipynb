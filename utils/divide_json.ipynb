{
 "cells": [
  {
   "cell_type": "code",
   "execution_count": 2,
   "metadata": {},
   "outputs": [
    {
     "name": "stdout",
     "output_type": "stream",
     "text": [
      "Data has been separated and saved to 'sentence_data.json' and 'embedding_data.json'.\n"
     ]
    }
   ],
   "source": [
    "import json\n",
    "\n",
    "# 1. Read the JSON\n",
    "with open(\"embedded_sentences.json\", 'r', encoding='utf-8') as f:\n",
    "    data = json.load(f)\n",
    "\n",
    "# 2. Extract & Separate Data\n",
    "sentence_data = []\n",
    "embedding_data = []\n",
    "\n",
    "for record in data:\n",
    "    sentence_data.append({\n",
    "        \"filename\": record[\"filename\"],\n",
    "        \"sentence\": record[\"sentence\"]\n",
    "    })\n",
    "    \n",
    "    embedding_data.append({\n",
    "        \"filename\": record[\"filename\"],\n",
    "        \"embedding\": record[\"embedding\"]\n",
    "    })\n",
    "\n",
    "# 3. Save to Separate JSONs\n",
    "with open(\"sentence_data.json\", 'w', encoding='utf-8') as f:\n",
    "    json.dump(sentence_data, f, ensure_ascii=False, indent=4)\n",
    "\n",
    "with open(\"embedding_data.json\", 'w', encoding='utf-8') as f:\n",
    "    json.dump(embedding_data, f, ensure_ascii=False, indent=4)\n",
    "\n",
    "print(\"Data has been separated and saved to 'sentence_data.json' and 'embedding_data.json'.\")\n"
   ]
  }
 ],
 "metadata": {
  "kernelspec": {
   "display_name": "Python 3",
   "language": "python",
   "name": "python3"
  },
  "language_info": {
   "codemirror_mode": {
    "name": "ipython",
    "version": 3
   },
   "file_extension": ".py",
   "mimetype": "text/x-python",
   "name": "python",
   "nbconvert_exporter": "python",
   "pygments_lexer": "ipython3",
   "version": "3.11.3"
  },
  "orig_nbformat": 4
 },
 "nbformat": 4,
 "nbformat_minor": 2
}
