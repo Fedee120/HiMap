{
 "cells": [
  {
   "cell_type": "code",
   "execution_count": 4,
   "metadata": {},
   "outputs": [
    {
     "name": "stderr",
     "output_type": "stream",
     "text": [
      "c:\\Python311\\Lib\\site-packages\\tqdm\\auto.py:21: TqdmWarning: IProgress not found. Please update jupyter and ipywidgets. See https://ipywidgets.readthedocs.io/en/stable/user_install.html\n",
      "  from .autonotebook import tqdm as notebook_tqdm\n"
     ]
    }
   ],
   "source": [
    "import os\n",
    "from transformers import DistilBertTokenizer, DistilBertModel\n",
    "from pymilvus import connections, Collection, FieldSchema, CollectionSchema, DataType\n",
    "import torch\n",
    "from sentence_transformers import SentenceTransformer\n",
    "\n",
    "# Initialize DistilBERT tokenizer and model\n",
    "#tokenizer = DistilBertTokenizer.from_pretrained('distilbert-base-uncased')\n",
    "#model = DistilBertModel.from_pretrained('distilbert-base-uncased')\n",
    "#model = SentenceTransformer('sentence-transformers/sentence-t5-base')\n",
    "#model = SentenceTransformer('all-MiniLM-L6-v2')\n",
    "model = SentenceTransformer('multi-qa-MiniLM-L6-cos-v1')\n",
    "\n",
    "def get_embedding(chunk):\n",
    "    \"\"\"Get the embedding vector for a chunk of text\"\"\"\n",
    "    return model.encode(chunk)"
   ]
  },
  {
   "cell_type": "code",
   "execution_count": 5,
   "metadata": {},
   "outputs": [],
   "source": [
    "import json\n",
    "from pymilvus import connections, FieldSchema, CollectionSchema, DataType, Collection, utility, db\n",
    "\n",
    "from pymilvus import connections\n",
    "connections.connect(\n",
    "  alias=\"default\",\n",
    "  host='localhost',\n",
    "  port='19530'\n",
    ")"
   ]
  },
  {
   "cell_type": "code",
   "execution_count": 6,
   "metadata": {},
   "outputs": [],
   "source": [
    "from pymilvus import Collection\n",
    "collection = Collection(\"python_docV2\")      # Get an existing collection.\n",
    "collection.load()\n"
   ]
  },
  {
   "cell_type": "code",
   "execution_count": 7,
   "metadata": {},
   "outputs": [],
   "source": [
    "search_params = {\n",
    "    \"metric_type\": \"L2\", \n",
    "}"
   ]
  },
  {
   "cell_type": "code",
   "execution_count": 16,
   "metadata": {},
   "outputs": [
    {
     "name": "stdout",
     "output_type": "stream",
     "text": [
      "Time to search:  29.511451721191406 ms\n",
      "['[\"id: 443851359161372071, distance: 0.6003910303115845, entity: {\\'sentence\\': \\'using regular expressions now that weve looked at some simple regular expressions how do we actually use them in python\\', \\'id\\': 443851359161372071, \\'filename\\': \\'116.txt\\'}\", \"id: 443851359161372090, distance: 0.690823495388031, entity: {\\'sentence\\': \\'regular expressions will often be written in python code using this raw string notation\\', \\'id\\': 443851359161372090, \\'filename\\': \\'116.txt\\'}\", \"id: 443851359161371971, distance: 0.8679239749908447, entity: {\\'sentence\\': \\'regular expression howto author am kuchling amkamkca abstract this document is an introductory tutorial to using regular expressions in python with the re module\\', \\'id\\': 443851359161371971, \\'filename\\': \\'116.txt\\'}\", \"id: 443851359161400823, distance: 0.9095194935798645, entity: {\\'sentence\\': \\'mastering regular expressions\\', \\'id\\': 443851359161400823, \\'filename\\': \\'330.txt\\'}\", \"id: 443851359161427309, distance: 0.93463134765625, entity: {\\'sentence\\': \\'python 24s regular expression engine can match this pattern without problems\\', \\'id\\': 443851359161427309, \\'filename\\': \\'479.txt\\'}\", \"id: 443851359161372404, distance: 0.9459158778190613, entity: {\\'sentence\\': \\'unfortunately it exclusively concentrates on perl and javas flavours of regular expressions and doesnt contain any python material at all so it wont be useful as a reference for programming in python\\', \\'id\\': 443851359161372404, \\'filename\\': \\'116.txt\\'}\", \"id: 443851359161371982, distance: 0.94928377866745, entity: {\\'sentence\\': \\'in these cases you may be better off writing python code to do the processing while python code will be slower than an elaborate regular expression it will also probably be more understandable\\', \\'id\\': 443851359161371982, \\'filename\\': \\'116.txt\\'}\", \"id: 443851359161400683, distance: 0.958281934261322, entity: {\\'sentence\\': \\'pattern the regular expression pattern\\', \\'id\\': 443851359161400683, \\'filename\\': \\'330.txt\\'}\", \"id: 443851359161372405, distance: 0.9785351157188416, entity: {\\'sentence\\': \\'the first edition covered pythons nowremoved regex module which wont help you much\\', \\'id\\': 443851359161372405, \\'filename\\': \\'116.txt\\'}\", \"id: 443851359161400326, distance: 0.9877127408981323, entity: {\\'sentence\\': \\'regular expressions can contain both special and ordinary characters\\', \\'id\\': 443851359161400326, \\'filename\\': \\'330.txt\\'}\"]']\n"
     ]
    }
   ],
   "source": [
    "#query_vector = get_embedding(\"how do i write a module in C or C++?\")\n",
    "query_vector = get_embedding(\"how do i use regular expressions in Pythnon?\")\n",
    "#time the search\n",
    "import time\n",
    "start = time.time()\n",
    "res = collection.search(\n",
    "    data=[query_vector],\n",
    "    anns_field=\"embedding\",\n",
    "    param=search_params,\n",
    "    limit=10,\n",
    "    output_fields=[\"id\", \"filename\", \"sentence\"]\n",
    ")\n",
    "end = time.time()\n",
    "#print the time in ms\n",
    "print(\"Time to search: \", (end - start)*1000, \"ms\")\n",
    "\n",
    "print(res)"
   ]
  },
  {
   "cell_type": "code",
   "execution_count": 21,
   "metadata": {},
   "outputs": [
    {
     "name": "stdout",
     "output_type": "stream",
     "text": [
      "using regular expressions now that weve looked at some simple regular expressions how do we actually use them in python 116.txt 443851359161372071\n",
      "regular expressions will often be written in python code using this raw string notation 116.txt 443851359161372090\n",
      "regular expression howto author am kuchling amkamkca abstract this document is an introductory tutorial to using regular expressions in python with the re module 116.txt 443851359161371971\n",
      "mastering regular expressions 330.txt 443851359161400823\n",
      "python 24s regular expression engine can match this pattern without problems 479.txt 443851359161427309\n",
      "unfortunately it exclusively concentrates on perl and javas flavours of regular expressions and doesnt contain any python material at all so it wont be useful as a reference for programming in python 116.txt 443851359161372404\n",
      "in these cases you may be better off writing python code to do the processing while python code will be slower than an elaborate regular expression it will also probably be more understandable 116.txt 443851359161371982\n",
      "pattern the regular expression pattern 330.txt 443851359161400683\n",
      "the first edition covered pythons nowremoved regex module which wont help you much 116.txt 443851359161372405\n",
      "regular expressions can contain both special and ordinary characters 330.txt 443851359161400326\n"
     ]
    }
   ],
   "source": [
    "['[\"id: 443851359161372071, distance: 0.6003910303115845, entity: {\\'sentence\\': \\'using regular expressions now that weve looked at some simple regular expressions how do we actually use them in python\\', \\'id\\': 443851359161372071, \\'filename\\': \\'116.txt\\'}\", \"id: 443851359161372090, distance: 0.690823495388031, entity: {\\'sentence\\': \\'regular expressions will often be written in python code using this raw string notation\\', \\'id\\': 443851359161372090, \\'filename\\': \\'116.txt\\'}\", \"id: 443851359161371971, distance: 0.8679239749908447, entity: {\\'sentence\\': \\'regular expression howto author am kuchling amkamkca abstract this document is an introductory tutorial to using regular expressions in python with the re module\\', \\'id\\': 443851359161371971, \\'filename\\': \\'116.txt\\'}\", \"id: 443851359161400823, distance: 0.9095194935798645, entity: {\\'sentence\\': \\'mastering regular expressions\\', \\'id\\': 443851359161400823, \\'filename\\': \\'330.txt\\'}\", \"id: 443851359161427309, distance: 0.93463134765625, entity: {\\'sentence\\': \\'python 24s regular expression engine can match this pattern without problems\\', \\'id\\': 443851359161427309, \\'filename\\': \\'479.txt\\'}\", \"id: 443851359161372404, distance: 0.9459158778190613, entity: {\\'sentence\\': \\'unfortunately it exclusively concentrates on perl and javas flavours of regular expressions and doesnt contain any python material at all so it wont be useful as a reference for programming in python\\', \\'id\\': 443851359161372404, \\'filename\\': \\'116.txt\\'}\", \"id: 443851359161371982, distance: 0.94928377866745, entity: {\\'sentence\\': \\'in these cases you may be better off writing python code to do the processing while python code will be slower than an elaborate regular expression it will also probably be more understandable\\', \\'id\\': 443851359161371982, \\'filename\\': \\'116.txt\\'}\", \"id: 443851359161400683, distance: 0.958281934261322, entity: {\\'sentence\\': \\'pattern the regular expression pattern\\', \\'id\\': 443851359161400683, \\'filename\\': \\'330.txt\\'}\", \"id: 443851359161372405, distance: 0.9785351157188416, entity: {\\'sentence\\': \\'the first edition covered pythons nowremoved regex module which wont help you much\\', \\'id\\': 443851359161372405, \\'filename\\': \\'116.txt\\'}\", \"id: 443851359161400326, distance: 0.9877127408981323, entity: {\\'sentence\\': \\'regular expressions can contain both special and ordinary characters\\', \\'id\\': 443851359161400326, \\'filename\\': \\'330.txt\\'}\"]']\n",
    "\n",
    "#for each in res:\n",
    "#print the sentence\n",
    "\n",
    "for each in res[0]:\n",
    "    print(each.entity.sentence, each.entity.filename, each.entity.id)"
   ]
  },
  {
   "cell_type": "code",
   "execution_count": 17,
   "metadata": {},
   "outputs": [
    {
     "name": "stdout",
     "output_type": "stream",
     "text": [
      "[443851359161372071, 443851359161372090, 443851359161371971, 443851359161400823, 443851359161427309, 443851359161372404, 443851359161371982, 443851359161400683, 443851359161372405, 443851359161400326]\n"
     ]
    }
   ],
   "source": [
    "#append to a list the ids of the response considering the structure is[\"['id: 4917, distance: 0.6798818111419678, entity: {}', 'id: 10402, distance: 0.6981911659240723, entity: {}', 'id: 2335, distance: 0.707775354385376, entity: {}', 'id: 9312, distance: 0.7683041095733643, entity: {}', 'id: 9599, distance: 0.7878801822662354, entity: {}', 'id: 4622, distance: 0.8129417896270752, entity: {}', 'id: 2336, distance: 0.8555702567100525, entity: {}', 'id: 10408, distance: 0.8695672750473022, entity: {}', 'id: 11102, distance: 0.8719511032104492, entity: {}', 'id: 10665, distance: 0.8743786215782166, entity: {}']\"]\n",
    "#then we can use the ids to get the text from the files\n",
    "ids = res[0].ids\n",
    "\n",
    "print(ids)"
   ]
  },
  {
   "cell_type": "code",
   "execution_count": 18,
   "metadata": {},
   "outputs": [
    {
     "ename": "FileNotFoundError",
     "evalue": "[Errno 2] No such file or directory: 'sentence_data.json'",
     "output_type": "error",
     "traceback": [
      "\u001b[1;31m---------------------------------------------------------------------------\u001b[0m",
      "\u001b[1;31mFileNotFoundError\u001b[0m                         Traceback (most recent call last)",
      "Cell \u001b[1;32mIn[18], line 16\u001b[0m\n\u001b[0;32m     12\u001b[0m     \u001b[39mfor\u001b[39;00m idx, sentence \u001b[39min\u001b[39;00m \u001b[39menumerate\u001b[39m(retrieved_sentences, \u001b[39m1\u001b[39m):\n\u001b[0;32m     13\u001b[0m         \u001b[39mprint\u001b[39m(\u001b[39mf\u001b[39m\u001b[39m\"\u001b[39m\u001b[39m{\u001b[39;00midx\u001b[39m}\u001b[39;00m\u001b[39m. \u001b[39m\u001b[39m{\u001b[39;00msentence\u001b[39m}\u001b[39;00m\u001b[39m\"\u001b[39m)\n\u001b[1;32m---> 16\u001b[0m retrieve_sentences_from_ids(ids)\n",
      "Cell \u001b[1;32mIn[18], line 5\u001b[0m, in \u001b[0;36mretrieve_sentences_from_ids\u001b[1;34m(ids)\u001b[0m\n\u001b[0;32m      3\u001b[0m \u001b[39mdef\u001b[39;00m \u001b[39mretrieve_sentences_from_ids\u001b[39m(ids):\n\u001b[0;32m      4\u001b[0m     \u001b[39m# Load data from JSON file\u001b[39;00m\n\u001b[1;32m----> 5\u001b[0m     \u001b[39mwith\u001b[39;00m \u001b[39mopen\u001b[39;49m(\u001b[39m\"\u001b[39;49m\u001b[39msentence_data.json\u001b[39;49m\u001b[39m\"\u001b[39;49m, \u001b[39m'\u001b[39;49m\u001b[39mr\u001b[39;49m\u001b[39m'\u001b[39;49m, encoding\u001b[39m=\u001b[39;49m\u001b[39m'\u001b[39;49m\u001b[39mutf-8\u001b[39;49m\u001b[39m'\u001b[39;49m) \u001b[39mas\u001b[39;00m json_file:\n\u001b[0;32m      6\u001b[0m         data \u001b[39m=\u001b[39m json\u001b[39m.\u001b[39mload(json_file)\n\u001b[0;32m      8\u001b[0m     \u001b[39m# Filter sentences with the given IDs\u001b[39;00m\n",
      "File \u001b[1;32m~\\AppData\\Roaming\\Python\\Python311\\site-packages\\IPython\\core\\interactiveshell.py:282\u001b[0m, in \u001b[0;36m_modified_open\u001b[1;34m(file, *args, **kwargs)\u001b[0m\n\u001b[0;32m    275\u001b[0m \u001b[39mif\u001b[39;00m file \u001b[39min\u001b[39;00m {\u001b[39m0\u001b[39m, \u001b[39m1\u001b[39m, \u001b[39m2\u001b[39m}:\n\u001b[0;32m    276\u001b[0m     \u001b[39mraise\u001b[39;00m \u001b[39mValueError\u001b[39;00m(\n\u001b[0;32m    277\u001b[0m         \u001b[39mf\u001b[39m\u001b[39m\"\u001b[39m\u001b[39mIPython won\u001b[39m\u001b[39m'\u001b[39m\u001b[39mt let you open fd=\u001b[39m\u001b[39m{\u001b[39;00mfile\u001b[39m}\u001b[39;00m\u001b[39m by default \u001b[39m\u001b[39m\"\u001b[39m\n\u001b[0;32m    278\u001b[0m         \u001b[39m\"\u001b[39m\u001b[39mas it is likely to crash IPython. If you know what you are doing, \u001b[39m\u001b[39m\"\u001b[39m\n\u001b[0;32m    279\u001b[0m         \u001b[39m\"\u001b[39m\u001b[39myou can use builtins\u001b[39m\u001b[39m'\u001b[39m\u001b[39m open.\u001b[39m\u001b[39m\"\u001b[39m\n\u001b[0;32m    280\u001b[0m     )\n\u001b[1;32m--> 282\u001b[0m \u001b[39mreturn\u001b[39;00m io_open(file, \u001b[39m*\u001b[39;49margs, \u001b[39m*\u001b[39;49m\u001b[39m*\u001b[39;49mkwargs)\n",
      "\u001b[1;31mFileNotFoundError\u001b[0m: [Errno 2] No such file or directory: 'sentence_data.json'"
     ]
    }
   ],
   "source": [
    "import json\n",
    "\n",
    "def retrieve_sentences_from_ids(ids):\n",
    "    # Load data from JSON file\n",
    "    with open(\"sentence_data.json\", 'r', encoding='utf-8') as json_file:\n",
    "        data = json.load(json_file)\n",
    "\n",
    "    # Filter sentences with the given IDs\n",
    "    retrieved_sentences = [record['sentence'] for record in data if record['id'] in ids]\n",
    "\n",
    "    # Print retrieved sentences\n",
    "    for idx, sentence in enumerate(retrieved_sentences, 1):\n",
    "        print(f\"{idx}. {sentence}\")\n",
    "\n",
    "\n",
    "retrieve_sentences_from_ids(ids)\n"
   ]
  },
  {
   "cell_type": "code",
   "execution_count": 3,
   "metadata": {},
   "outputs": [
    {
     "name": "stdout",
     "output_type": "stream",
     "text": [
      "Number of elements in collection:  0\n",
      "Is empty:  True\n"
     ]
    }
   ],
   "source": [
    "print(\"Number of elements in collection: \", collection.num_entities)\n",
    "print(\"Is empty: \", collection.is_empty)"
   ]
  },
  {
   "cell_type": "code",
   "execution_count": null,
   "metadata": {},
   "outputs": [],
   "source": [
    "collection.release()"
   ]
  }
 ],
 "metadata": {
  "kernelspec": {
   "display_name": "Python 3",
   "language": "python",
   "name": "python3"
  },
  "language_info": {
   "codemirror_mode": {
    "name": "ipython",
    "version": 3
   },
   "file_extension": ".py",
   "mimetype": "text/x-python",
   "name": "python",
   "nbconvert_exporter": "python",
   "pygments_lexer": "ipython3",
   "version": "3.11.3"
  },
  "orig_nbformat": 4
 },
 "nbformat": 4,
 "nbformat_minor": 2
}
